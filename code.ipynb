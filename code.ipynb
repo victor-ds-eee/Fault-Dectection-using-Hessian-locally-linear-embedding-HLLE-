import os
import glob
import warnings
import numpy as np
import pandas as pd
import matplotlib.pyplot as plt
import scipy.stats as stats
from mpl_toolkits.mplot3d import Axes3D
from sklearn.manifold import LocallyLinearEmbedding
from sklearn.metrics import mean_squared_error
# Configure warnings and plot style
warnings.filterwarnings("ignore")
plt.rcParams["font.family"] = "serif"
plt.rcParams["font.serif"] = ["Times New Roman"]
